{
 "cells": [
  {
   "cell_type": "markdown",
   "id": "a1f89f09-3153-4e19-82b5-d168d382809b",
   "metadata": {},
   "source": [
    "# Part 1: Social Media Behaviour Data Analysis"
   ]
  },
  {
   "cell_type": "markdown",
   "id": "b7273255-ab87-4c85-951d-b03c7cad8023",
   "metadata": {
    "tags": []
   },
   "source": [
    "\n",
    "---"
   ]
  },
  {
   "cell_type": "markdown",
   "id": "e1ccb25c-1685-484a-bf08-c4bc9acd9cf3",
   "metadata": {
    "tags": []
   },
   "source": [
    "### Install Python packages (pip only)"
   ]
  },
  {
   "cell_type": "code",
   "execution_count": 1,
   "id": "f4e03f4e-9153-4f7d-ae6f-2f89909a1288",
   "metadata": {},
   "outputs": [],
   "source": [
    "#e.g., %pip install networkx"
   ]
  },
  {
   "cell_type": "markdown",
   "id": "2b8621e2-e003-46b7-be7b-20a3f167559a",
   "metadata": {
    "tags": []
   },
   "source": [
    "### Import Python packages"
   ]
  },
  {
   "cell_type": "code",
   "execution_count": 2,
   "id": "d7c00360-c9d4-4781-b9e5-0181f1652bb8",
   "metadata": {},
   "outputs": [],
   "source": [
    "import networkx as nx\n",
    "import numpy as np"
   ]
  },
  {
   "cell_type": "markdown",
   "id": "ffa95b1b-31b8-44ad-9e9c-e2299b8cd2cf",
   "metadata": {},
   "source": [
    "---"
   ]
  },
  {
   "cell_type": "markdown",
   "id": "aa9a6985-71fb-4810-8dad-cd171aedf8a9",
   "metadata": {
    "tags": []
   },
   "source": [
    "### Task 1 of 1\n",
    "\n",
    "Examine the Graph Modelling Language (gml) files \"socialmedia_cmt224_reply_network.gml\" (reply network) and \"socialmedia_cmt224_social_network.gml\" (social network) which represent Twitter data between a sample of users over several days at the time of the Higgs boson particle discovery. Both networks are directed and share the same ids for nodes (anonymised Twitter users).  However, the shared user ids are contained within the \"label\" attribute in the .gml files, not the node \"id\" attribute of each individual .gml file.\n",
    "\n",
    "In the reply network, an edge from a node, 𝑢, to some other node, 𝑣, indicates that 𝑢 replied to a Tweet made by 𝑣 during the time period. Replies are also Tweets. Edges are weighted with the weight representing the number of times this happened over the time period.\n",
    "\n",
    "In the social network, an edge from node 𝑢 to 𝑣 indicates that 𝑢 follows 𝑣 on the social media platform.\n",
    "\n",
    "Using these networks, answer the following questions:"
   ]
  },
  {
   "cell_type": "markdown",
   "id": "2e51a390-c558-451c-8f1e-3009d9fdd525",
   "metadata": {
    "tags": []
   },
   "source": [
    "##### Q1. How does the topological structure of the reply network differ from the social network in terms of overall sparsity of edges between users and the number of connected groups of users?"
   ]
  },
  {
   "cell_type": "code",
   "execution_count": 3,
   "id": "23d86c8c-c4fe-4fff-a741-84694bfc1b7e",
   "metadata": {},
   "outputs": [
    {
     "name": "stdout",
     "output_type": "stream",
     "text": [
      "Reply network density: 0.00002\n",
      "Social network density: 0.00060\n",
      "Reply network groups: 36132\n",
      "Social network groups: 9146\n"
     ]
    }
   ],
   "source": [
    "# Load the reply network\n",
    "reply_network = nx.read_gml(\"socialmedia_cmt224_reply_network.gml\")\n",
    "\n",
    "# Load the social network\n",
    "social_network = nx.read_gml(\"socialmedia_cmt224_social_network.gml\")\n",
    "\n",
    "# Calculate the density of the reply network\n",
    "reply_density = nx.density(reply_network)\n",
    "\n",
    "# Print the result to 2 decimal places unless it is less than 0.01\n",
    "if nx.density(reply_network) >= 0.01:\n",
    "    print(\"Reply network density: {:.2f}\".format(reply_density))\n",
    "else:\n",
    "    print(\"Reply network density: {:.5f}\".format(reply_density))\n",
    "\n",
    "# Calculate the density of the social network\n",
    "social_density = nx.density(social_network)\n",
    "\n",
    "# Print the result to 2 decimal places unless it is less than 0.01\n",
    "if nx.density(social_network) >= 0.01:\n",
    "    print(\"Social network density: {:.2f}\".format(social_density))\n",
    "else:\n",
    "    print(\"Social network density: {:.5f}\".format(social_density))\n",
    "\n",
    "# Calculate the number of connected groups in the reply network\n",
    "reply_groups = nx.number_strongly_connected_components(reply_network)\n",
    "print(\"Reply network groups:\", reply_groups)\n",
    "\n",
    "# Calculate the number of connected groups in the social network\n",
    "social_groups = nx.number_strongly_connected_components(social_network)\n",
    "print(\"Social network groups:\", social_groups)"
   ]
  },
  {
   "cell_type": "raw",
   "id": "b6b3e307-f386-4417-9e9a-40a3de16a996",
   "metadata": {},
   "source": [
    "APPROACH: Use the density() function to calculate the density and measure the network sparsity, and the number_strongly_connected_components() function to calculate the number of connected groups in each network. A strongly connected component is a group of nodes in a directed graph (such as the reply and social networks) where every node is reachable from every other node.\n",
    "\n",
    "JUSTIFICATION: Other measures of network density and connectivity, such as the clustering coefficient, could have been used to provide additional insights into the topological structure. However, the chosen measures are sufficient to provide a basic understanding of the differences between the reply network and the social networks.\n",
    "\n",
    "ANSWER: The reply network is much sparser than the social network, as evidenced by the lower density value (0.00002 compared to 0.00060 respectively), which indicates there are fewer connections between users. The reply network has a significantly larger number of connected groups of users (36132) compared to the social network (9146), which indicates there are more isolated sub-networks and it is less connected in general."
   ]
  },
  {
   "cell_type": "markdown",
   "id": "0e2d2102-f4eb-4a4e-8289-c6b4f8a72e85",
   "metadata": {},
   "source": [
    "##### Q2. Do the 25 users with highest number of followers also have the highest number of repliers to their Tweets?"
   ]
  },
  {
   "cell_type": "code",
   "execution_count": 4,
   "id": "4515b14a-2a60-42e6-8c0e-4fd1d952203d",
   "metadata": {},
   "outputs": [
    {
     "name": "stdout",
     "output_type": "stream",
     "text": [
      "Top 25 followed users: {'383', '396', '88', '1274', '15', '8', '407', '3549', '979', '965', '465', '206', '677', '3419', '220', '1062', '960', '2417', '1503', '352', '205', '1988', '138', '301', '317'}\n",
      "Top 25 replied users: {'349', '9964', '7962', '88', '7690', '216', '1880', '3549', '3998', '2014', '327', '677', '2177', '220', '4259', '13808', '2280', '16460', '5245', '6940', '1988', '3369', '12281', '4368', '317'}\n",
      "Users on both top followed and top replied lists: {'677', '220', '1988', '3549', '88', '317'}\n"
     ]
    }
   ],
   "source": [
    "# Get the top 25 followed users\n",
    "top_followed = sorted(social_network.in_degree(weight='weight'), reverse=True, key=lambda x: x[1])[:25]\n",
    "top_followed_users = set([node[0] for node in top_followed])\n",
    "print(\"Top 25 followed users:\", top_followed_users)\n",
    "\n",
    "# Get the top 25 replied users\n",
    "top_replied = sorted(reply_network.in_degree(weight='weight'), reverse=True, key=lambda x: x[1])[:25]\n",
    "top_replied_users = set([node[0] for node in top_replied])\n",
    "print(\"Top 25 replied users:\", top_replied_users)\n",
    "\n",
    "# Get the intersection of the top followed and top replied users\n",
    "common_users = top_followed_users.intersection(top_replied_users)\n",
    "print(\"Users on both top followed and top replied lists:\", common_users)"
   ]
  },
  {
   "cell_type": "raw",
   "id": "052651f7-f191-4777-8bd0-8c8e29a93fb4",
   "metadata": {},
   "source": [
    "APPROACH: Use the in_degree() function with the weight attribute and sort the results in descending order to get the top 25 followed and top 25 replied users in the social and reply networks. Then compare the sets to find the intersection of users who appear on both lists.\n",
    "\n",
    "JUSTIFICATION: An alternative approach could be to calculate the correlation between the two measures, which would provide a more continuous measure of the relationship between the two variables, but may be computationally intensive for large networks and may not be as easily interpretable as the approach taken for the top 25 users.\n",
    "\n",
    "ANSWER: Not all of the top followed users have the highest number of replies to their tweets since only 6 of them appear on both lists. This suggests having a high number of followers doesn't correlate with a high number of replies to tweets. There may be other factors that contribute to a high number of replies to tweets, such as the content of them or the engagement strategies employed. The code only considers the top 25 users, which may not be representative of the entire network."
   ]
  },
  {
   "cell_type": "markdown",
   "id": "a3403a75-d61c-4458-8d1d-018b6bd926db",
   "metadata": {},
   "source": [
    "##### Q3. To what extent does the number of followers a user has correlate with the number of users that they have replied to?"
   ]
  },
  {
   "cell_type": "code",
   "execution_count": 5,
   "id": "e4139df4-2095-4241-8143-e9f14814d992",
   "metadata": {},
   "outputs": [
    {
     "name": "stdout",
     "output_type": "stream",
     "text": [
      "Correlation coefficient between followers and replies: -0.04\n"
     ]
    }
   ],
   "source": [
    "# Get all users in the social network\n",
    "social_all_users = social_network.nodes()\n",
    "\n",
    "# Initialize empty lists for followers and replies\n",
    "followers = []\n",
    "replies = []\n",
    "\n",
    "# Loop through all users in the social network\n",
    "for user in social_all_users:\n",
    "    # Get the number of followers for the user\n",
    "    follower_count = social_network.in_degree(user, weight='weight')\n",
    "    followers.append(follower_count)\n",
    "    \n",
    "    # Get the number of users that the user has replied to\n",
    "    reply_count = reply_network.out_degree(user, weight='weight')\n",
    "    replies.append(reply_count)\n",
    "\n",
    "# Calculate the correlation coefficient\n",
    "correlation = np.corrcoef(followers, replies)[0, 1]\n",
    "\n",
    "# Print the result to 2 decimal places unless it is less than 0.01\n",
    "if abs(np.corrcoef(followers, replies)[0, 1]) >= (0.01):\n",
    "    print(\"Correlation coefficient between followers and replies: {:.2f}\".format(correlation))\n",
    "else:\n",
    "    print(\"Correlation coefficient between followers and replies: {:.5f}\".format(correlation))"
   ]
  },
  {
   "cell_type": "raw",
   "id": "843ea997-1710-437a-bee9-d87c6b4a87e7",
   "metadata": {},
   "source": [
    "APPROACH: Loop through all the users in the social network, and for each user, get the number of followers and the number of users they have replied to using the in_degree() and out_degree() functions respectively. The number of followers is added to the followers list and the number of replies is added to the replies list. The correlation coefficient is calculated using the np.corrcoef() function.\n",
    "\n",
    "JUSTIFICATION: This approach directly compares the number of followers with the number of users replied to, which is a good measure of engagement. An alternative approach could be to use regression analysis to model the relationship between the two variables. This would provide a more detailed analysis, but may be more complex and require more data than what is available.\n",
    "\n",
    "ANSWER: The correlation coefficient of -0.04 indicates no linear relationship (as it is close to 0) between the number of followers a user has and the number of users it has replied to. There is an extremely slight tendency for users with more followers to reply to fewer users and vice versa, but the correlation is so weak it is impossible to make any definitive conclusions."
   ]
  },
  {
   "cell_type": "markdown",
   "id": "e8297318-7065-41ac-84ee-20c67984090f",
   "metadata": {},
   "source": [
    "##### Q4. Do users typically ONLY reply to Tweets, are ONLY replied to, or BOTH?"
   ]
  },
  {
   "cell_type": "code",
   "execution_count": 6,
   "id": "26dbd7ae-c713-4f54-9e07-d213a22cf46a",
   "metadata": {},
   "outputs": [
    {
     "name": "stdout",
     "output_type": "stream",
     "text": [
      "Only reply: 20332 nodes (52.24% of all nodes)\n",
      "Only get replied to: 11663 nodes (29.97% of all nodes)\n",
      "Both reply and get replied to: 6923 nodes (17.79% of all nodes)\n"
     ]
    }
   ],
   "source": [
    "# Get the nodes that only reply\n",
    "only_reply = set(node for node, degree in reply_network.in_degree() if degree == 0 and reply_network.out_degree(node) > 0)\n",
    "only_reply_count = len(only_reply)\n",
    "only_reply_proportion = only_reply_count / len(reply_network.nodes())\n",
    "print(\"Only reply: {} nodes ({:.2%} of all nodes)\".format(only_reply_count, only_reply_proportion))\n",
    "\n",
    "# Get the nodes that only get replied to\n",
    "only_replied_to = set(node for node, degree in reply_network.out_degree() if degree == 0 and reply_network.in_degree(node) > 0)\n",
    "only_replied_to_count = len(only_replied_to)\n",
    "only_replied_to_proportion = only_replied_to_count / len(reply_network.nodes())\n",
    "print(\"Only get replied to: {} nodes ({:.2%} of all nodes)\".format(only_replied_to_count, only_replied_to_proportion))\n",
    "\n",
    "# Get the nodes that both reply and get replied to\n",
    "both = set(reply_network.nodes()) - only_reply - only_replied_to\n",
    "both_count = len(both)\n",
    "both_proportion = both_count / len(reply_network.nodes())\n",
    "print(\"Both reply and get replied to: {} nodes ({:.2%} of all nodes)\".format(both_count, both_proportion))"
   ]
  },
  {
   "cell_type": "raw",
   "id": "871ab384-9ac6-418e-b238-e8bc34354dfd",
   "metadata": {},
   "source": [
    "APPROACH: Identify the set of nodes that have an in-degree of 0 and an out-degree greater than 0, which corresponds to the users who only reply to tweets, and the opposite one, which corresponds to the users who are only replied to. Identify the set of nodes not in either of the previous sets, which corresponds to those who both reply and are replied to.\n",
    "\n",
    "JUSTIFICATION: The approach taken provides a simple and clear way to understand the different types of user engagement on the social network. An alternative approach could be to use clustering algorithms to group users based on their patterns of engagement. However, this approach may be more computationally intensive and could be more challenging to interpret.\n",
    "\n",
    "ANSWER: Slightly more than half of users only reply to tweets, while 30% only get replied to, and around 18% both reply and get replied to, so there is a diversity in the behaviour of users on the platform. The majority of them primarily use it to only reply to tweets."
   ]
  },
  {
   "cell_type": "markdown",
   "id": "758e8192-3634-4b37-842c-5930b09861fe",
   "metadata": {},
   "source": [
    "##### Q5. How many users have ONLY mutual following connections (i.e., every user they follow also follows them) AND ONLY mutual reply connections with these SAME users?"
   ]
  },
  {
   "cell_type": "code",
   "execution_count": 7,
   "id": "fb84ca57-63bf-4519-be36-a514bfc2a6fe",
   "metadata": {},
   "outputs": [
    {
     "name": "stdout",
     "output_type": "stream",
     "text": [
      "Number of users with only mutual following and reply connections: 189\n"
     ]
    }
   ],
   "source": [
    "# Get the set of nodes in the social and reply networks\n",
    "social_network_nodes = set(social_network.nodes())\n",
    "reply_network_nodes = set(reply_network.nodes())\n",
    "\n",
    "# For each node in the social network, check if it has only mutual following connections with its followers\n",
    "mutual_following_users = set()\n",
    "for user in social_network_nodes:\n",
    "    followers = set(social_network.predecessors(user))\n",
    "    following = set(social_network.successors(user))\n",
    "    if followers == following and len(followers) > 0: # check if the user has only mutual following connections and has at least one follower\n",
    "        mutual_following_users.add(user)\n",
    "\n",
    "# For each node that has only mutual following connections, check if it also has only mutual reply connections with the same followers\n",
    "count = 0\n",
    "for user in mutual_following_users:\n",
    "    followers = set(social_network.predecessors(user))\n",
    "    isMutual = True\n",
    "    for follower in followers:\n",
    "        if not reply_network.has_edge(follower, user) or not reply_network.has_edge(user, follower):\n",
    "            isMutual = False\n",
    "            break\n",
    "    if isMutual:\n",
    "        count += 1\n",
    "\n",
    "# Print the size of the set of users found.\n",
    "print(\"Number of users with only mutual following and reply connections:\", count)"
   ]
  },
  {
   "cell_type": "raw",
   "id": "04603234-769e-46b7-8025-01cf979418c6",
   "metadata": {},
   "source": [
    "APPROACH: Identify all users that only have mutual following connections by checking if a node's set of followers is equal to its set of following (comparing the sets of predecessors and successors of the node). Insure the node has at least one follower. Then check if each of these mutual-following nodes also have mutual reply connections with the same set of followers by checking if a node's set of followers is equal to its set of replyers.\n",
    "\n",
    "JUSTIFICATION: Compared to an alternative approach, such as using nested loops to iterate over all pairs of nodes and checking if they have mutual connections, the approach taken is more efficient. It reduces the number of nodes and edges to be checked. Additionally, the use of set operations and graph methods in the code allows for faster and more concise code.\n",
    "\n",
    "ANSWER: Only 189 users have mutual following and reply connections, indicating that reciprocal communication is relatively rare in this social network. This could be due to various reasons, including users' preference to engage with like-minded individuals, a too large network size to maintain close relationships with all the followers and the preference to use social medias for broadcasting messages or consuming content."
   ]
  }
 ],
 "metadata": {
  "kernelspec": {
   "display_name": "Python 3 (ipykernel)",
   "language": "python",
   "name": "python3"
  },
  "language_info": {
   "codemirror_mode": {
    "name": "ipython",
    "version": 3
   },
   "file_extension": ".py",
   "mimetype": "text/x-python",
   "name": "python",
   "nbconvert_exporter": "python",
   "pygments_lexer": "ipython3",
   "version": "3.10.4"
  }
 },
 "nbformat": 4,
 "nbformat_minor": 5
}
