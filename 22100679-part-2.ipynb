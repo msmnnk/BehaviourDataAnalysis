{
 "cells": [
  {
   "cell_type": "markdown",
   "id": "ff2d0703-1cf5-442a-9730-5b054a09ec32",
   "metadata": {},
   "source": [
    "# Part 2: Email Behaviour Data Analysis"
   ]
  },
  {
   "cell_type": "markdown",
   "id": "94d3b813-a930-4d20-949d-557a59bd8724",
   "metadata": {
    "tags": []
   },
   "source": [
    "---"
   ]
  },
  {
   "cell_type": "markdown",
   "id": "d9389eca-4427-450f-b86d-2954730560af",
   "metadata": {
    "tags": []
   },
   "source": [
    "### Install Python packages (pip only)"
   ]
  },
  {
   "cell_type": "code",
   "execution_count": 1,
   "id": "561e7d2b-d506-4b97-9e0a-4643d5ef91d0",
   "metadata": {},
   "outputs": [],
   "source": [
    "#e.g., %pip install networkx"
   ]
  },
  {
   "cell_type": "markdown",
   "id": "661a426f-00b3-4eab-b8ff-3897a5bf2e87",
   "metadata": {},
   "source": [
    "### Import Python packages"
   ]
  },
  {
   "cell_type": "code",
   "execution_count": 2,
   "id": "9fde3e57-85f4-46f2-9999-96434563cc69",
   "metadata": {},
   "outputs": [],
   "source": [
    "import networkx as nx\n",
    "import numpy as np\n",
    "import json\n",
    "from collections import Counter"
   ]
  },
  {
   "cell_type": "markdown",
   "id": "31f7e832-7044-47ce-84b0-610a465e6b1d",
   "metadata": {},
   "source": [
    "---"
   ]
  },
  {
   "cell_type": "markdown",
   "id": "6be69931-f66d-490c-8f4f-3d8016c72c13",
   "metadata": {
    "tags": []
   },
   "source": [
    "### Task 1 of 1 \n",
    "\n",
    "Examine the file \"emails_cmt224.edgelist\" which represents email behaviour at an organisation. Each line contains two numbers, 𝑢 and 𝑣, separated by a blank space. Consider each number as an identifier for an individual in an organisation, with the space on each line representing that the individual, 𝑢, sent at least one email to the another individual, 𝑣, at some point. Model the data using an appropriate, directed network representation and answer the following questions:"
   ]
  },
  {
   "cell_type": "markdown",
   "id": "e2fa5455-293e-4b4b-b084-71d0cb31d40b",
   "metadata": {},
   "source": [
    "##### Q1. Are the majority of connections in the entire network 'mutual' connections where emails have been exchanged at least once, or asymmetric? In comparison, how many individuals have a higher or lower ratio of mutual connections than the entire network?"
   ]
  },
  {
   "cell_type": "code",
   "execution_count": 3,
   "id": "84bbaf04-0d29-457c-9c5c-83da2ce1a57a",
   "metadata": {},
   "outputs": [
    {
     "name": "stdout",
     "output_type": "stream",
     "text": [
      "Overall network reciprocity: 0.71\n",
      "Number of individuals with the higher ratio:  408\n",
      "Number of individuals with the lower ratio:  578\n",
      "Number of individuals with the same ratio:  0\n"
     ]
    }
   ],
   "source": [
    "# Load the edgelist file as a directed graph\n",
    "G = nx.read_edgelist(\"emails_cmt224.edgelist\", create_using=nx.DiGraph())\n",
    "\n",
    "# Compute overall ratio of mutual connections in the network\n",
    "overall_ratio = nx.overall_reciprocity(G)\n",
    "\n",
    "# Compute the ratio of mutual connections for each individual node\n",
    "ratios = nx.reciprocity(G, G.nodes())\n",
    "\n",
    "# Compare the ratio of each individual node with the overall network ratio\n",
    "higher_ratio_count = 0\n",
    "lower_ratio_count = 0\n",
    "same_ratio_count = 0\n",
    "for u, ratio in ratios.items():\n",
    "    if ratio > overall_ratio:\n",
    "        higher_ratio_count += 1\n",
    "    elif ratio < overall_ratio:\n",
    "        lower_ratio_count += 1\n",
    "    elif ratio == overall_ratio:\n",
    "        same_ratio_count += 1\n",
    "        \n",
    "# Print the result to 2 decimal places unless it is less than 0.01        \n",
    "if nx.overall_reciprocity(G) >= 0.01:\n",
    "    print(\"Overall network reciprocity: {:.2f}\".format(overall_ratio))\n",
    "else:\n",
    "    print(\"Overall network reciprocity: {:.5f}\".format(overall_ratio))\n",
    "    \n",
    "print('Number of individuals with the higher ratio: ', higher_ratio_count)\n",
    "print('Number of individuals with the lower ratio: ' , lower_ratio_count)\n",
    "print('Number of individuals with the same ratio: ' , same_ratio_count)"
   ]
  },
  {
   "cell_type": "raw",
   "id": "555d8e2e-b511-44d9-9e66-abbcfd72e813",
   "metadata": {},
   "source": [
    "APPROACH: Calculate the reciprocity of the network using the reciprocity() function to determine whether the majority of connections in the entire network are mutual or asymmetric. Compute the reciprocity for each individual node in the network, and compare these values to the overall network reciprocity to determine which individuals had a higher or lower ratio than the network as a whole.\n",
    "\n",
    "JUSTIFICATION: An alternative approach is using nested loops to iterate over the nodes and edges of the graph, and count the number of edges that are reciprocated for each node (check if the reverse edge exists in the graph). This approach would provide the same information, but it would be less efficient and more verbose than the reciprocity() function which is specifically designed for directed graphs.\n",
    "\n",
    "ANSWER: The majority of connections in the entire network are mutual, as the overall network reciprocity is 0.71, which is quite high. Out of the 986 individuals in the network, 408 individuals have a higher ratio of mutual connections than the overall network reciprocity, while 578 individuals have a lower ratio. This suggests that there is considerable variability in the degree to which individuals have mutual connections."
   ]
  },
  {
   "cell_type": "markdown",
   "id": "a1ea162f-553b-402d-b437-99b95cc9821a",
   "metadata": {},
   "source": [
    "##### Q2. Are occurrences of induced, connected subgraphs of 3 individuals (triads) with only mutual connections more abundant in the network than those with a mixture of asymmetric and mutual edges? What does this suggest about how mutual connections are distributed in the network?"
   ]
  },
  {
   "cell_type": "code",
   "execution_count": 4,
   "id": "775143b3-138d-4851-b14f-8119c2b18a9d",
   "metadata": {},
   "outputs": [
    {
     "name": "stdout",
     "output_type": "stream",
     "text": [
      "Only mutual connections: 0.02%\n",
      "Only asymmetric connections: 0.00380%\n",
      "Only null dyads connections: 90.75%\n",
      "Null dyads + asymmetric connections: 4.01%\n",
      "Null dyads + mutual connections: 4.91%\n",
      "Asymmetric + mutual connections: 0.04%\n",
      "All types mixed connections: 0.26%\n"
     ]
    }
   ],
   "source": [
    "# Compute the triadic census\n",
    "triads = nx.triadic_census(G)\n",
    "\n",
    "# Count the number of triads with only mutual connections\n",
    "only_mutual_triads = triads['300']\n",
    "only_mutual_triad_percentage = (only_mutual_triads / sum(triads.values())) * 100\n",
    "\n",
    "# Count the number of triads with only asymmetric connections\n",
    "only_asymmetric_triads = triads['030T'] + triads['030C']\n",
    "only_asymmetric_triad_percentage = (only_asymmetric_triads / sum(triads.values())) * 100\n",
    "\n",
    "# Count the number of triads with only null dyads connections\n",
    "nulldyads_triads = triads['003']\n",
    "nulldyads_triads_percentage = (nulldyads_triads / sum(triads.values())) * 100\n",
    "\n",
    "# Count the number of mixed null dyads with asymmetric connections\n",
    "nulldyads_asymmetric_triads = triads['012'] + triads['021D'] + triads['021U'] + triads['021C']\n",
    "nulldyads_asymmetric_triads_percentage = (nulldyads_asymmetric_triads / sum(triads.values())) * 100\n",
    "\n",
    "# Count the number of mixed null dyads with mutual connections\n",
    "nulldyads_mutual_triads = triads['102'] + triads['201']\n",
    "nulldyads_mutual_triads_percentage = (nulldyads_mutual_triads / sum(triads.values())) * 100\n",
    "\n",
    "# Count the number of mixed asymmetric with mutual connections\n",
    "asymmetric_mutual_triads = triads['120D'] + triads['120U'] + triads['120C'] + triads['210']\n",
    "asymmetric_mutual_triads_percentage = (asymmetric_mutual_triads / sum(triads.values())) * 100\n",
    "\n",
    "# Count the number of mixed all types connections\n",
    "amn_triads = triads['111D'] + triads['111U']\n",
    "amn_triads_percentage = (amn_triads / sum(triads.values())) * 100\n",
    "\n",
    "# Print the result to 2 decimal places unless it is less than 0.01        \n",
    "print(f\"Only mutual connections: {only_mutual_triad_percentage:.2f}%\" if only_mutual_triad_percentage >= 0.01 else f\"Only mutual connections: {only_mutual_triad_percentage:.5f}%\")\n",
    "print(f\"Only asymmetric connections: {only_asymmetric_triad_percentage:.2f}%\" if only_asymmetric_triad_percentage >= 0.01 else f\"Only asymmetric connections: {only_asymmetric_triad_percentage:.5f}%\")\n",
    "print(f\"Only null dyads connections: {nulldyads_triads_percentage:.2f}%\" if nulldyads_triads_percentage >= 0.01 else f\"Only null dyads connections: {nulldyads_triads_percentage:.5f}%\")\n",
    "print(f\"Null dyads + asymmetric connections: {nulldyads_asymmetric_triads_percentage:.2f}%\" if nulldyads_asymmetric_triads_percentage >= 0.01 else f\"Null dyads + asymmetric connections: {nulldyads_asymmetric_triads_percentage:.5f}%\")\n",
    "print(f\"Null dyads + mutual connections: {nulldyads_mutual_triads_percentage:.2f}%\" if nulldyads_mutual_triads_percentage >= 0.01 else f\"Null dyads + mutual connections: {nulldyads_mutual_triads_percentage:.5f}%\")\n",
    "print(f\"Asymmetric + mutual connections: {asymmetric_mutual_triads_percentage:.2f}%\" if asymmetric_mutual_triads_percentage >= 0.01 else f\"Asymmetric + mutual connections: {asymmetric_mutual_triads_percentage:.5f}%\")\n",
    "print(f\"All types mixed connections: {amn_triads_percentage:.2f}%\" if amn_triads_percentage >= 0.01 else f\"All types mixed connections: {amn_triads_percentage:.5f}%\")"
   ]
  },
  {
   "cell_type": "raw",
   "id": "1aac5f8e-2fa2-485c-b163-621f73a91a58",
   "metadata": {},
   "source": [
    "APPROACH: Use the triadic_census() function to count the different types of triads in a given graph. The resulting counts are then used to calculate the percentage of triads with each of the different types separately.\n",
    "\n",
    "JUSTIFICATION: Alternative measures or methods could have been used, such as the clustering coefficient, which measures the degree to which nodes tend to cluster together. However, it may not capture the same information about the distribution of mutual connections in the network. Additionally, the clustering coefficient is only applicable to undirected networks, whereas the triadic census can be used for both directed and undirected networks.\n",
    "\n",
    "ANSWER: Occurrences of triads with only mutual connections are relatively rare, with only 0.02% of all triads having this structure. Triads with only null dyads connections are the most abundant, accounting for 90.75%. Triads with a mixture of both asymmetric and mutual connections account for 4.01%, while triads with a mixture of null dyads and mutual connections account for 4.91% of all triads. This suggests mutual connections are not evenly distributed across the network with some clusters of nodes exhibiting high mutual connectivity and other clusters exhibiting little or no mutual connectivity."
   ]
  },
  {
   "cell_type": "markdown",
   "id": "a88f1282-c982-44a1-943b-a1e58d6cfd5f",
   "metadata": {
    "tags": []
   },
   "source": [
    "##### Q3. Using the largest, strongly connected component (where at least one path exists between each individual and all others), could the connectivity be suggested to be reflective of a small world phenomenon in comparison to the typical connectivity of 10 comparative random networks?"
   ]
  },
  {
   "cell_type": "code",
   "execution_count": 5,
   "id": "f93ce721-0797-4803-b06b-d3e0a0a04027",
   "metadata": {},
   "outputs": [
    {
     "name": "stdout",
     "output_type": "stream",
     "text": [
      "Average shortest path length in the largest strongly connected component: 2.55\n",
      "Average clustering coefficient for the largest strongly connected component: 0.39\n",
      "Average shortest path length in random networks: 2.48\n",
      "Average clustering coefficient for random networks: 0.03\n"
     ]
    }
   ],
   "source": [
    "# Compute the largest strongly connected component\n",
    "largest_scc = max(nx.strongly_connected_components(G), key=len)\n",
    "scc = G.subgraph(largest_scc)\n",
    "\n",
    "# Compute the average shortest path length in the largest strongly connected component\n",
    "avg_shortest_path_scc = nx.average_shortest_path_length(scc)\n",
    "print(f\"Average shortest path length in the largest strongly connected component: {avg_shortest_path_scc:.2f}\" if avg_shortest_path_scc >= 0.01 else f\"Average shortest path length in largest strongly connected component: {avg_shortest_path_scc:.5f}\")\n",
    "\n",
    "# Compute the average clustering coefficient in the largest strongly connected component\n",
    "avg_clustering_scc = nx.average_clustering(scc)\n",
    "print(f\"Average clustering coefficient for the largest strongly connected component: {avg_clustering_scc:.2f}\" if avg_clustering_scc >= 0.01 else f\"Average clustering coefficient for largest strongly connected component: {avg_clustering_scc:.5f}\")\n",
    "\n",
    "# Generate 10 random networks with the same number of nodes and edges\n",
    "num_nodes = G.number_of_nodes()\n",
    "num_edges = G.number_of_edges()\n",
    "random_graphs = [nx.gnm_random_graph(num_nodes, num_edges, directed=True) for _ in range(10)]\n",
    "\n",
    "# Compute the average shortest path length and average clustering coefficient for each random network\n",
    "avg_shortest_path_random = []\n",
    "avg_clustering_random = []\n",
    "for random_graph in random_graphs:\n",
    "    # Compute the largest strongly connected component\n",
    "    largest_scc = max(nx.strongly_connected_components(random_graph), key=len)\n",
    "    scc = random_graph.subgraph(largest_scc)\n",
    "    \n",
    "    # Compute the average shortest path length in the largest strongly connected component\n",
    "    avg_shortest_path = nx.average_shortest_path_length(scc)\n",
    "    avg_shortest_path_random.append(avg_shortest_path)\n",
    "    \n",
    "    # Compute the average clustering coefficient in the largest strongly connected component\n",
    "    avg_clustering = nx.average_clustering(scc)\n",
    "    avg_clustering_random.append(avg_clustering)\n",
    "\n",
    "# Print the result to 2 decimal places unless it is less than 0.01\n",
    "# May take a few minutes as it is computationally expensive to generate 10 networks and loop over them\n",
    "print(f\"Average shortest path length in random networks: {np.mean(avg_shortest_path_random):.2f}\" if np.mean(avg_shortest_path_random) >= 0.01 else f\"Average shortest path length in random networks: {np.mean(avg_shortest_path_random):.5f}\")\n",
    "print(f\"Average clustering coefficient for random networks: {np.mean(avg_clustering_random):.2f}\" if np.mean(avg_clustering_random) >= 0.01 else f\"Average clustering coefficient for random networks: {np.mean(avg_clustering_random):.5f}\")"
   ]
  },
  {
   "cell_type": "raw",
   "id": "660fe970-1267-4d50-b34e-392fa6d14b6a",
   "metadata": {},
   "source": [
    "APPROACH: Identify the largest strongly connected component in the network. Calculate the average shortest path length and the average clustering coefficient for the nodes in this subgraph. To compare the results, generate 10 random networks with the same number of nodes and edges as the original network. Then calculate the average shortest path length and the average clustering coefficient for the nodes in these random networks.\n",
    "\n",
    "JUSTIFICATION: Alternative methods could involve exploring other subgraphs or using different models to generate random networks. However, the chosen approach (checking the main properties) is a standard and widely accepted method for investigating small-world phenomena in networks.\n",
    "\n",
    "ANSWER: The average clustering coefficient for the largest strongly connected component is higher than the average clustering coefficient for 10 random networks, and the average shortest path is only slightly higher. This suggests the connectivity exhibits \"small-world\" properties, which are characterized by a high clustering coefficient and a short average path length."
   ]
  },
  {
   "cell_type": "markdown",
   "id": "00cddf41-8d3e-4177-8aba-c7a322a8ff58",
   "metadata": {},
   "source": [
    "---\n",
    "### Task 2 of 2\n",
    "\n",
    "Examine the JSON file \"emails_cmt224_departments.json\" (departments file). Keys in the departments file represent individuals using the same ids as in the \"emails_cmt224.edgelist\" file in Part 2, Task 1 and the values represent a department id that the individual can be attributed to. Using the contents of the departments file in combination with the network in Part 2, Task 1, answer the following questions:"
   ]
  },
  {
   "cell_type": "markdown",
   "id": "754c1e34-252d-4786-9b57-0dfe9e76ec5c",
   "metadata": {},
   "source": [
    "##### Q1. Using the connections that individuals have in the network, are they more likely to mix with others in their department or those with a similar number of connections?"
   ]
  },
  {
   "cell_type": "code",
   "execution_count": 6,
   "id": "52119076-b214-41ed-a0b0-11a3d6e0e2a7",
   "metadata": {},
   "outputs": [
    {
     "name": "stdout",
     "output_type": "stream",
     "text": [
      "Department assortativity: 0.31\n",
      "Degree assortativity: -0.01\n"
     ]
    }
   ],
   "source": [
    "# Load department data\n",
    "D = json.load(open('emails_cmt224_departments.json'))\n",
    "\n",
    "# Assign the data to nodes in the graph\n",
    "for node in G:\n",
    "    G.nodes[node]['department'] = D[node]\n",
    "    \n",
    "# Calculate the assortativity coefficients for department and degree\n",
    "department = nx.attribute_assortativity_coefficient(G, 'department')\n",
    "degree = nx.degree_assortativity_coefficient(G)\n",
    "    \n",
    "# Print the result to 2 decimal places unless it is less than 0.01\n",
    "if abs(department) >= 0.01:\n",
    "    print(\"Department assortativity: {:.2f}\".format(department))\n",
    "else:\n",
    "    print(\"Department assortativity: {:.5f}\".format(department))\n",
    "    \n",
    "if abs(degree) >= 0.01:\n",
    "    print(\"Degree assortativity: {:.2f}\".format(degree))\n",
    "else:\n",
    "    print(\"Degree assortativity: {:.5f}\".format(degree))"
   ]
  },
  {
   "cell_type": "raw",
   "id": "97f2b5cb-9d52-4787-8e8b-ef9aa29d1c8e",
   "metadata": {},
   "source": [
    "APPROACH: Use the department information provided in the \"emails_cmt224_departments.json\" file to add a \"department\" attribute to each node in the network. Calculate the department assortativity and degree assortativity of the network.\n",
    "\n",
    "JUSTIFICATION: Assortativity coefficient is not the only measure that can be used to investigate the mixing patterns in a network. Other measures such as clustering coefficient or betweenness centrality could also be used to explore different aspects of the network structure, but they do not provide a direct comparison between individuals in the same department versus individuals with similar degrees.\n",
    "\n",
    "ANSWER: The department assortativity coefficient of 0.31 indicates there is a positive correlation between individuals connecting with others in their own department. The negative degree assortativity coefficient of -0.01 suggests individuals are not likely to connect with others who have a similar number of connections. As the coefficient is close to zero, the network can be described as having a neutral degree assortativity. Individuals in the email network are more likely to mix with others in their department than those with a similar number of connections."
   ]
  },
  {
   "cell_type": "markdown",
   "id": "3a83c73f-b498-49c4-abfb-46b52e34427b",
   "metadata": {
    "tags": []
   },
   "source": [
    "##### Q2. Are all departments with 10 or more members more tightly connected amongst themselves in comparison to all individuals across the overall network irrespective of their department?  Where in this context, 'more tightly connected' is defined as having less sparsity in the connections among members AND more clustered connections. In addition to answering the overall question as yes or no, provide a list of departments this is true for (if any) and not true for (if any)."
   ]
  },
  {
   "cell_type": "code",
   "execution_count": 7,
   "id": "70af8529-4fce-4910-a4b0-449862f1b96a",
   "metadata": {},
   "outputs": [
    {
     "name": "stdout",
     "output_type": "stream",
     "text": [
      "There are 28 top departments with 10 or more members: ['1', '15', '3', '0', '7', '14', '16', '20', '19', '36', '21', '38', '22', '34', '17', '37', '35', '10', '4', '5', '13', '6', '9', '8', '23', '11', '2', '27']\n",
      "25 departments are more tightly connected than the overall network: ['1', '15', '3', '0', '7', '14', '16', '20', '19', '36', '21', '38', '22', '34', '17', '37', '35', '10', '4', '5', '13', '9', '8', '11', '2']\n",
      "3 departments are not more tightly connected than the overall network: ['6', '23', '27']\n"
     ]
    }
   ],
   "source": [
    "# Get a dictionary of nodes and their department attribute\n",
    "node_department_dict = nx.get_node_attributes(G, 'department')\n",
    "\n",
    "# Group nodes by department\n",
    "department_node_dict = {}\n",
    "for node, department in node_department_dict.items():\n",
    "    department_node_dict.setdefault(department, []).append(node)\n",
    "\n",
    "# Create a list of department subgraphs with 10 and more members\n",
    "top_departments = {}\n",
    "for department, nodes in department_node_dict.items():\n",
    "    if len(nodes) >= 10:\n",
    "        top_departments[department] = G.subgraph(nodes)\n",
    "\n",
    "# Calculate the overall average clustering coefficient and density\n",
    "overall_clustering = nx.average_clustering(G)\n",
    "overall_density = nx.density(G)\n",
    "\n",
    "# Identify tightly and weakly connected subgraphs\n",
    "tightly_connected = []\n",
    "weakly_connected = []\n",
    "for department, subgraph in top_departments.items():\n",
    "    subgraph_clustering = nx.average_clustering(subgraph)\n",
    "    subgraph_density = nx.density(subgraph)\n",
    "    if subgraph_clustering > overall_clustering and subgraph_density > overall_density:\n",
    "        tightly_connected.append([department, subgraph])\n",
    "    else:\n",
    "        weakly_connected.append([department, subgraph])\n",
    "\n",
    "# Print the results\n",
    "print(f\"There are {len(top_departments)} top departments with 10 or more members: {list(top_departments.keys())}\")\n",
    "print(f\"{len(tightly_connected)} departments are more tightly connected than the overall network: {[department for department, _ in tightly_connected]}\")\n",
    "print(f\"{len(weakly_connected)} departments are not more tightly connected than the overall network: {[department for department, _ in weakly_connected]}\")"
   ]
  },
  {
   "cell_type": "raw",
   "id": "f8f3b14e-67a3-411b-b5c2-04a6cbfce9ce",
   "metadata": {},
   "source": [
    "APPROACH: Create a dictionary of nodes and their department attribute using the nx.get_node_attributes(). Group nodes by the department and create a list of department subgraphs with 10 or more members. Calculate the average clustering coefficient and density for each department's subgraph and compare these values to the overall network's corresponding values. Separate the subgraphs into two lists based on whether they are tightly connected or not.\n",
    "\n",
    "JUSTIFICATION: Both measures capture aspects of network connectivity, with density measuring the proportion of existing connections compared to the possible number of connections, and average clustering coefficient measuring how closely the neighbours of a node are connected to each other. Alternative approaches could include using node connectivity or edge betweenness centrality to identify tightly connected subgraphs. However, these measures are more focused on individual nodes rather than the overall structure of the subgraph, and may not provide a clear indication of the overall tightness of connections.\n",
    "\n",
    "ANSWER: 25 out of 28 departments are more tightly connected than the overall network, while only 3 are not. So, the answer to the question is yes, departments with 10 or more members tend to be more tightly connected amongst themselves in comparison to the overall network."
   ]
  }
 ],
 "metadata": {
  "kernelspec": {
   "display_name": "Python 3 (ipykernel)",
   "language": "python",
   "name": "python3"
  },
  "language_info": {
   "codemirror_mode": {
    "name": "ipython",
    "version": 3
   },
   "file_extension": ".py",
   "mimetype": "text/x-python",
   "name": "python",
   "nbconvert_exporter": "python",
   "pygments_lexer": "ipython3",
   "version": "3.10.4"
  }
 },
 "nbformat": 4,
 "nbformat_minor": 5
}
